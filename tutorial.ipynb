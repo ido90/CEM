{
 "cells": [
  {
   "cell_type": "markdown",
   "metadata": {},
   "source": [
    "# The Cross Entropy Method: a Tutorial"
   ]
  },
  {
   "cell_type": "markdown",
   "metadata": {},
   "source": [
    "## Tutorial contents\n",
    "* [Background](#Background)\n",
    "* [The cem package](#The-cem-package)\n",
    "* [Toy example](#Toy-example:-the-tail-of-a-uniform-distribution)\n",
    "    * [Sampling (constant threshold)](#Sampling-below-a-constant-threshold)\n",
    "    * [Sampling (quantile threshold)](#Sampling-below-a-quantile-threshold)\n",
    "    * [Optimization](#Optimization)\n",
    "* [Example](#Cross-entropy-sampler-for-risk-averse-reinforcement-learning): sample \"difficult\" environment-conditions for risk-averse reinforcement learning"
   ]
  },
  {
   "cell_type": "markdown",
   "metadata": {},
   "source": [
    "## Background\n",
    "\n",
    "The [Cross Entropy Method](http://web.mit.edu/6.454/www/www_fall_2003/gew/CEtutorial.pdf) (CE or CEM) is an approach for optimization or rare-event sampling.\n",
    "\n",
    "### CEM for rare-event sampling\n",
    "#### A motivating example: sample the most difficult times and roads for self-driving training\n",
    "Let's say that we want to train an autonomous car. A-priory, we have no preference to train in certain hours or roads more than others; so by default, we send our car in hours and roads sampled uniformly.\n",
    "However, we do prefer to focus the learning on challenging driving conditions. We can use the CEM to sample the more challenging hours and roads, even if we don't know in advance which ones they are.\n",
    "\n",
    "#### Formalizing the problem\n",
    "For simplicity, let's focus on sampling of driving hours.\n",
    "First, we define the original distribuion of hours $x \\sim D=U([0,1))$ (up to a $\\times 24$ factor).\n",
    "To allow modification of $D$, we rewrite it as an instance of a parametric family of distributions, e.g., $D = D_{\\phi_0} = Beta({\\phi_0})$, where $\\phi_0=(1,1)$ and [$Beta(1,1)$](https://en.wikipedia.org/wiki/Beta_distribution) is indeed the uniform distribution.\n",
    "We denote by $R(x)$ the score function: in our example, it is the output score (return) of the car, after driving at hour $x$.\n",
    "We choose $q\\in\\mathbb{R}$ and set our goal to sample challenging driving hours $x \\sim D^* = (D_{\\phi_0} | R(x)\\le q)$.\n",
    "In terms of the pdf, we want to sample from $f^*(x) = f_{\\phi_0}(x)\\cdot \\pmb{1}_{R(x)\\le q}$.\n",
    "In practice, $D^*$ might not be a part of the parametric family $\\{D_\\phi\\}_\\phi$, so instead we look for the \"closest\" $D_{\\phi^*}$ in terms of KL-divrgence:\n",
    "$$ \\phi^* = argmin_{\\phi''} D_{KL}(D^* || D_{\\phi''}) $$\n",
    "Or equivalently, we aim to minimize their cross-entropy:\n",
    "$$ \\phi^* = argmin_{\\phi''} H(D^*, D_{\\phi''}) = argmax_{\\phi''} \\int_x f^*(x) \\log f_{\\phi''}(x) dx = argmax_{\\phi''} \\int_{R(x)\\le q} f_{\\phi_0}(x) \\log f_{\\phi''}(x) dx $$\n",
    "\n",
    "#### The CEM\n",
    "To obtain this, the CEM maintains a sample distribution $D_{\\phi'}$. Every iteration, the CEM samples a batch $\\{x_i\\}_{i=1}^N \\sim D_{\\phi'}^N$ and then updates $\\phi'$ using\n",
    "$$\\phi' \\leftarrow argmax_{\\phi''} \\sum_i w_i \\pmb{1}_{R(x_i)\\le q'} f_{\\phi_0}(x_i) \\log f_{\\phi''}(x_i)$$\n",
    "Note:\n",
    "* **The weight**: $w_i$ is the Importance Sampling (IS) weight, and corresponds to the Likelihood Ratio (LR) $w_i = \\frac{f_{\\phi_0}(x_i)}{f_{\\phi'}(x_i)}$. This guarantees that the update rule compensates for the skewed data batch, which was sampled from $D_{\\phi'}$ rather than the original $D_{\\phi_0}$.\n",
    "* **The threshold $q'$**: the update rule only considers tail-samples $R(x_i) \\le q'$. Setting $q'=q$ would give us our true objective; however, if $q$ corresponds to extreme samples the update may become noisy. For example, if $q$ is the 1% quantile of $R(x)$, and $N=100$, then we only expect a single sample $x_i$ to be actually used for the update. To smooth the update, the CEM increases $q'$ such that at least $\\rho$ samples are used: $q' \\leftarrow max(q,\\, quantile_\\rho(\\{R(x_i)\\}_{i=1}^N))$.\n",
    "* **The update rule often reduces to a simple calculation**. For example, if $D_\\phi$ is either the Gaussian or the Exponential family, and the parameter $\\phi$ is the mean, then the update will simply take the weighted mean $\\phi' \\leftarrow \\frac{ \\sum_i w_i \\pmb{1}_{R(x_i)\\le q'} x_i }{ \\sum_i w_i \\pmb{1}_{R(x_i)\\le q'} }$. That is, every iteration, the CEM will just sample a batch, and update the sampling distribution according to the mean of the tail of the batch.\n",
    "\n",
    "#### Algorithm\n",
    "The corresponding version of the CE algorithm is:\n",
    "* $\\phi' = \\phi_0$\n",
    "* while *true*:\n",
    "    * Sample $x \\sim D_{\\phi_0}^N $\n",
    "    * Print $x$\n",
    "    * $w_i \\leftarrow \\frac{f_{\\phi_0}(x_i)}{f_{\\phi'}(x_i)} \\qquad (1\\le i \\le N$)\n",
    "    * $q' \\leftarrow max(q,\\, quantile_\\rho(\\{R(x_i)\\}_{i=1}^N))$\n",
    "    * $\\phi' \\leftarrow argmax_{\\phi''} \\sum_i w_i \\pmb{1}_{R(x_i)\\le q'} f_{\\phi_0}(x_i) \\log f_{\\phi''}(x_i)$\n",
    "\n",
    "Note that this version simply prints batches of $x$, which (hopefully) become closer and closer to the tail distribution $D^* = (D_{\\phi_0} | R(x)\\le q)$.\n",
    "Another version returns $\\phi'$ once $q'=q$ (i.e., once more than $\\rho$ of the sampled batch satisfy $R(x_i)\\le q$).\n",
    "\n",
    "### CEM for optimization\n",
    "The optimization version of the algorithm above is very similar, but ignores $q$ and the weights (or equivalently, sets $q=-\\infty$ and $w_i\\equiv 1$). That is, instead of aiming to find samples below $q$, the algorithm always keeps going in the direction of the worst examples in the batch.\n",
    "A stopping-criterion is also needed to be added (e.g., non-changing $\\phi'$ for a couple of iterations)."
   ]
  },
  {
   "cell_type": "markdown",
   "metadata": {},
   "source": [
    "## The cem package\n",
    "\n",
    "#### Modules\n",
    "The cem package includes the following modules:\n",
    "* `CEM.py`: Defines an abstract class named CEM for the cross entropy method. To use it, a concrete implementation must be inherited.\n",
    "* `examples.py`: Examples for concrete inheritances of the CEM.\n",
    "\n",
    "#### Main methods\n",
    "In the CEM class, the following methods are defined (3 of them are to be implemented in the inherited class - depending on the actual distributions class):\n",
    "* `sample()`: return a sample from the current distribution, along with a weight corresponding to the likelihood-ratio wrt the original distribution.\n",
    "    * `do_sample(curr_dist)`: do the sampling.              [IMPLEMENTED BY USER]\n",
    "    * `get_weight(x)`: calculate the LR weight.\n",
    "        * `likelihood_ratio(x)`.\n",
    "            * `pdf(x, dist)`.                               [IMPLEMENTED BY USER]\n",
    "* `update(score)`: update list of scores. If there're enough samples and it's time to update the distribution:\n",
    "    * `select_samples()`.\n",
    "    * `update_sample_distribution(samples, weights)`.   [IMPLEMENTED BY USER]\n",
    "\n",
    "#### Configuration and usage\n",
    "See examples below."
   ]
  },
  {
   "cell_type": "code",
   "execution_count": 1,
   "metadata": {},
   "outputs": [
    {
     "data": {
      "text/html": [
       "<style>.container { width:95% !important; }</style>"
      ],
      "text/plain": [
       "<IPython.core.display.HTML object>"
      ]
     },
     "metadata": {},
     "output_type": "display_data"
    },
    {
     "data": {
      "text/html": [
       "<style>.output_result { max-width:90% !important; }</style>"
      ],
      "text/plain": [
       "<IPython.core.display.HTML object>"
      ]
     },
     "metadata": {},
     "output_type": "display_data"
    }
   ],
   "source": [
    "# Auto reload\n",
    "%reload_ext autoreload\n",
    "%autoreload 2\n",
    "\n",
    "import numpy as np\n",
    "import cross_entropy_method as cem\n",
    "\n",
    "# Set wide notebook\n",
    "from IPython.core.display import display, HTML\n",
    "display(HTML(\"<style>.container { width:95% !important; }</style>\"))\n",
    "display(HTML(\"<style>.output_result { max-width:90% !important; }</style>\"))"
   ]
  },
  {
   "cell_type": "markdown",
   "metadata": {},
   "source": [
    "## Toy example: the tail of a uniform distribution\n",
    "\n",
    "### Sampling below a constant threshold"
   ]
  },
  {
   "cell_type": "markdown",
   "metadata": {},
   "source": [
    "We are interested in sampling from the 0.1-tail of $U([0,1))$ by re-parameterizing it as $Beta(2\\phi,\\,2-2\\phi)$ (whose mean is $\\phi$) with $\\phi_0=0.5$, and using the CEM to modify $\\phi$ accordingly.\n",
    "\n",
    "Problem definition:\n",
    "* **Distributions class**: $Beta(2\\phi,\\,2-2\\phi)$\n",
    "* **Original distribution**: $\\phi_0=0.5$ (uniform distribution)\n",
    "* **Update function**: mean\n",
    "* **Score function**: identity\n",
    "* **Threshold**: $q=0.1$"
   ]
  },
  {
   "cell_type": "markdown",
   "metadata": {},
   "source": [
    "#### Define the Beta-realization of the abstract CEM class\n",
    "Note: The one-dimensional Beta inheritance is already implemented in the examples module, so it can be simply loaded, but for completeness we redefine it here."
   ]
  },
  {
   "cell_type": "code",
   "execution_count": 2,
   "metadata": {},
   "outputs": [],
   "source": [
    "JUST_LOAD = True\n",
    "\n",
    "if JUST_LOAD:\n",
    "    from cross_entropy_method.examples import CEM_Beta\n",
    "    \n",
    "else:\n",
    "    from scipy import stats\n",
    "    class CEM_Beta(cem.CEM):\n",
    "        '''Implementation example of the CEM for a 1D Beta distribution.'''\n",
    "\n",
    "        # Note: in this 1D case, dist is a scalar in [0,1], corresponding to the distribution mean.\n",
    "        #  In general, dist may be any object that represents a distribution (e.g., any kind of array).\n",
    "\n",
    "        def __init__(self, *args, **kwargs):\n",
    "            super(CEM_Beta, self).__init__(*args, **kwargs)\n",
    "            # Optional variables specifying the names of the distribution parameters and the samples\n",
    "            #  in the summarizing tables. In our case, both are one-dimensional. If they were\n",
    "            #  multi-dimensional, we should have provided lists of names instead of strings.\n",
    "            self.default_dist_titles = 'beta_mean'\n",
    "            self.default_samp_titles = 'sample'\n",
    "\n",
    "        def do_sample(self, dist):\n",
    "            return np.random.beta(2*dist, 2-2*dist)\n",
    "\n",
    "        def pdf(self, x, dist):\n",
    "            return stats.beta.pdf(np.clip(x,0.001,0.999), 2*dist, 2-2*dist)\n",
    "\n",
    "        def update_sample_distribution(self, samples, weights):\n",
    "            w = np.array(weights)\n",
    "            s = np.array(samples)\n",
    "            # we avoid boundary-values for numerical stability\n",
    "            return np.clip(np.mean(w*s)/np.mean(w), 0.001, 0.999)"
   ]
  },
  {
   "cell_type": "markdown",
   "metadata": {},
   "source": [
    "#### Simulation and sampling"
   ]
  },
  {
   "cell_type": "code",
   "execution_count": 3,
   "metadata": {},
   "outputs": [],
   "source": [
    "n_iterations = 10\n",
    "batch_size = 1000\n",
    "\n",
    "def simulate_toy_process_and_sampling(ce):\n",
    "    for batch in range(n_iterations):\n",
    "        for i in range(batch_size):\n",
    "            x, _ = ce.sample()\n",
    "            score = x  # in the toy example, the score is simply the sample itself\n",
    "            ce.update(score)"
   ]
  },
  {
   "cell_type": "code",
   "execution_count": 4,
   "metadata": {},
   "outputs": [
    {
     "name": "stdout",
     "output_type": "stream",
     "text": [
      "Wall time: 2.09 s\n"
     ]
    }
   ],
   "source": [
    "%%time\n",
    "ce = CEM_Beta(\n",
    "    phi0=0.5,              # original distribution parameter\n",
    "    batch_size=batch_size, # make update every 1000 samples\n",
    "    ref_q=0.1,             # aim for samples whose scores are below 0.1\n",
    "    min_batch_update=0.5   # include at least the bottom 50% of the batch in the parameter update\n",
    ")\n",
    "\n",
    "simulate_toy_process_and_sampling(ce)"
   ]
  },
  {
   "cell_type": "markdown",
   "metadata": {},
   "source": [
    "#### Analysis\n",
    "\n",
    "The method below plots, for each iteration, the mean of the batch and of its tail.\n",
    "In the first iteration, the 0.1-tail has an average of $\\approx 0.05$, as expected. **Within as few as 3 iterations, the sampling already aligns with the original tail and provides a sample mean of $\\approx 0.05$ over the whole batch**."
   ]
  },
  {
   "cell_type": "code",
   "execution_count": 5,
   "metadata": {},
   "outputs": [
    {
     "data": {
      "image/png": "[encoded data removed]",
      "text/plain": [
       "<Figure size 360x252 with 1 Axes>"
      ]
     },
     "metadata": {
      "needs_background": "light"
     },
     "output_type": "display_data"
    }
   ],
   "source": [
    "ax = ce.show_sampled_scores()\n",
    "ax.axhline(0.5, color='k')\n",
    "ax.axhline(0.05, color='k');"
   ]
  },
  {
   "cell_type": "markdown",
   "metadata": {},
   "source": [
    "The CE class can also provide a summary of the process in both batch-level and sample-level:"
   ]
  },
  {
   "cell_type": "code",
   "execution_count": 6,
   "metadata": {},
   "outputs": [],
   "source": [
    "d1, d2 = ce.get_data()"
   ]
  },
  {
   "cell_type": "markdown",
   "metadata": {},
   "source": [
    "Batch level:\n",
    "* `ref_quantile`: The value of $q$. In this case it is constant, but in the next example we define $q$ to be a quantile of the data, which may vary every iteration.\n",
    "* `internal_quantile`: This is the $\\rho$-quantile of the batch (i.e., the threshold that guarantees that at least $\\rho$ samples will be used for the update). Note in the 3rd iteration, we already have `internal_quantile<ref_quantile`, i.e., the tail of the original distribution covers more than $\\rho$ of the sampled batch, hence we can use even more samples for the update (`n_update_samples>500` and `update_samples_perc>0.5`).\n",
    "* `beta_mean`: This is the parameter $\\phi'$ of the sample distribution, whose name was defined in the CEM_Beta class above."
   ]
  },
  {
   "cell_type": "code",
   "execution_count": 7,
   "metadata": {},
   "outputs": [
    {
     "data": {
      "text/html": [
       "<div>\n",
       "<style scoped>\n",
       "    .dataframe tbody tr th:only-of-type {\n",
       "        vertical-align: middle;\n",
       "    }\n",
       "\n",
       "    .dataframe tbody tr th {\n",
       "        vertical-align: top;\n",
       "    }\n",
       "\n",
       "    .dataframe thead th {\n",
       "        text-align: right;\n",
       "    }\n",
       "</style>\n",
       "<table border=\"1\" class=\"dataframe\">\n",
       "  <thead>\n",
       "    <tr style=\"text-align: right;\">\n",
       "      <th></th>\n",
       "      <th>title</th>\n",
       "      <th>batch</th>\n",
       "      <th>ref_quantile</th>\n",
       "      <th>internal_quantile</th>\n",
       "      <th>n_update_samples</th>\n",
       "      <th>update_samples_perc</th>\n",
       "      <th>beta_mean</th>\n",
       "    </tr>\n",
       "  </thead>\n",
       "  <tbody>\n",
       "    <tr>\n",
       "      <th>0</th>\n",
       "      <td>CEM</td>\n",
       "      <td>0</td>\n",
       "      <td>0.1</td>\n",
       "      <td>0.481146</td>\n",
       "      <td>500</td>\n",
       "      <td>50.0</td>\n",
       "      <td>0.500000</td>\n",
       "    </tr>\n",
       "    <tr>\n",
       "      <th>1</th>\n",
       "      <td>CEM</td>\n",
       "      <td>1</td>\n",
       "      <td>0.1</td>\n",
       "      <td>0.152639</td>\n",
       "      <td>500</td>\n",
       "      <td>50.0</td>\n",
       "      <td>0.249383</td>\n",
       "    </tr>\n",
       "    <tr>\n",
       "      <th>2</th>\n",
       "      <td>CEM</td>\n",
       "      <td>2</td>\n",
       "      <td>0.1</td>\n",
       "      <td>0.006605</td>\n",
       "      <td>790</td>\n",
       "      <td>79.0</td>\n",
       "      <td>0.075990</td>\n",
       "    </tr>\n",
       "    <tr>\n",
       "      <th>3</th>\n",
       "      <td>CEM</td>\n",
       "      <td>3</td>\n",
       "      <td>0.1</td>\n",
       "      <td>0.000234</td>\n",
       "      <td>897</td>\n",
       "      <td>89.7</td>\n",
       "      <td>0.046781</td>\n",
       "    </tr>\n",
       "    <tr>\n",
       "      <th>4</th>\n",
       "      <td>CEM</td>\n",
       "      <td>4</td>\n",
       "      <td>0.1</td>\n",
       "      <td>0.000158</td>\n",
       "      <td>869</td>\n",
       "      <td>86.9</td>\n",
       "      <td>0.045203</td>\n",
       "    </tr>\n",
       "    <tr>\n",
       "      <th>5</th>\n",
       "      <td>CEM</td>\n",
       "      <td>5</td>\n",
       "      <td>0.1</td>\n",
       "      <td>0.000367</td>\n",
       "      <td>884</td>\n",
       "      <td>88.4</td>\n",
       "      <td>0.047141</td>\n",
       "    </tr>\n",
       "    <tr>\n",
       "      <th>6</th>\n",
       "      <td>CEM</td>\n",
       "      <td>6</td>\n",
       "      <td>0.1</td>\n",
       "      <td>0.000205</td>\n",
       "      <td>879</td>\n",
       "      <td>87.9</td>\n",
       "      <td>0.046188</td>\n",
       "    </tr>\n",
       "    <tr>\n",
       "      <th>7</th>\n",
       "      <td>CEM</td>\n",
       "      <td>7</td>\n",
       "      <td>0.1</td>\n",
       "      <td>0.000122</td>\n",
       "      <td>881</td>\n",
       "      <td>88.1</td>\n",
       "      <td>0.045642</td>\n",
       "    </tr>\n",
       "    <tr>\n",
       "      <th>8</th>\n",
       "      <td>CEM</td>\n",
       "      <td>8</td>\n",
       "      <td>0.1</td>\n",
       "      <td>0.000124</td>\n",
       "      <td>883</td>\n",
       "      <td>88.3</td>\n",
       "      <td>0.044003</td>\n",
       "    </tr>\n",
       "    <tr>\n",
       "      <th>9</th>\n",
       "      <td>CEM</td>\n",
       "      <td>9</td>\n",
       "      <td>0.1</td>\n",
       "      <td>0.000197</td>\n",
       "      <td>865</td>\n",
       "      <td>86.5</td>\n",
       "      <td>0.045228</td>\n",
       "    </tr>\n",
       "  </tbody>\n",
       "</table>\n",
       "</div>"
      ],
      "text/plain": [
       "  title  batch  ref_quantile  internal_quantile  n_update_samples  \\\n",
       "0   CEM      0           0.1           0.481146               500   \n",
       "1   CEM      1           0.1           0.152639               500   \n",
       "2   CEM      2           0.1           0.006605               790   \n",
       "3   CEM      3           0.1           0.000234               897   \n",
       "4   CEM      4           0.1           0.000158               869   \n",
       "5   CEM      5           0.1           0.000367               884   \n",
       "6   CEM      6           0.1           0.000205               879   \n",
       "7   CEM      7           0.1           0.000122               881   \n",
       "8   CEM      8           0.1           0.000124               883   \n",
       "9   CEM      9           0.1           0.000197               865   \n",
       "\n",
       "   update_samples_perc  beta_mean  \n",
       "0                 50.0   0.500000  \n",
       "1                 50.0   0.249383  \n",
       "2                 79.0   0.075990  \n",
       "3                 89.7   0.046781  \n",
       "4                 86.9   0.045203  \n",
       "5                 88.4   0.047141  \n",
       "6                 87.9   0.046188  \n",
       "7                 88.1   0.045642  \n",
       "8                 88.3   0.044003  \n",
       "9                 86.5   0.045228  "
      ]
     },
     "execution_count": 7,
     "metadata": {},
     "output_type": "execute_result"
    }
   ],
   "source": [
    "d1"
   ]
  },
  {
   "cell_type": "markdown",
   "metadata": {},
   "source": [
    "Sample level:\n",
    "* `selected`: Whether the sample was used for the update of $\\phi'$ (i.e., whether its score was below $q'$).\n",
    "* `weight`: The IS weight of the sample. Note that the weight is $1$ in the first batch, and also in reference-samples in the following batches (in this example we don't have such reference-samples, but in the examples below we do).\n",
    "* Note again that in the toy example, the `score` equals the `sample`, rather than being generated by some random process depending on that sample."
   ]
  },
  {
   "cell_type": "code",
   "execution_count": 8,
   "metadata": {},
   "outputs": [
    {
     "data": {
      "text/html": [
       "<div>\n",
       "<style scoped>\n",
       "    .dataframe tbody tr th:only-of-type {\n",
       "        vertical-align: middle;\n",
       "    }\n",
       "\n",
       "    .dataframe tbody tr th {\n",
       "        vertical-align: top;\n",
       "    }\n",
       "\n",
       "    .dataframe thead th {\n",
       "        text-align: right;\n",
       "    }\n",
       "</style>\n",
       "<table border=\"1\" class=\"dataframe\">\n",
       "  <thead>\n",
       "    <tr style=\"text-align: right;\">\n",
       "      <th></th>\n",
       "      <th>title</th>\n",
       "      <th>batch</th>\n",
       "      <th>sample_id</th>\n",
       "      <th>selected</th>\n",
       "      <th>weight</th>\n",
       "      <th>score</th>\n",
       "      <th>sample</th>\n",
       "    </tr>\n",
       "  </thead>\n",
       "  <tbody>\n",
       "    <tr>\n",
       "      <th>0</th>\n",
       "      <td>CEM</td>\n",
       "      <td>0</td>\n",
       "      <td>0</td>\n",
       "      <td>1.0</td>\n",
       "      <td>1.000000</td>\n",
       "      <td>6.094482e-02</td>\n",
       "      <td>6.094482e-02</td>\n",
       "    </tr>\n",
       "    <tr>\n",
       "      <th>1</th>\n",
       "      <td>CEM</td>\n",
       "      <td>0</td>\n",
       "      <td>1</td>\n",
       "      <td>0.0</td>\n",
       "      <td>1.000000</td>\n",
       "      <td>9.177716e-01</td>\n",
       "      <td>9.177716e-01</td>\n",
       "    </tr>\n",
       "    <tr>\n",
       "      <th>2</th>\n",
       "      <td>CEM</td>\n",
       "      <td>0</td>\n",
       "      <td>2</td>\n",
       "      <td>1.0</td>\n",
       "      <td>1.000000</td>\n",
       "      <td>1.547494e-01</td>\n",
       "      <td>1.547494e-01</td>\n",
       "    </tr>\n",
       "    <tr>\n",
       "      <th>3</th>\n",
       "      <td>CEM</td>\n",
       "      <td>0</td>\n",
       "      <td>3</td>\n",
       "      <td>0.0</td>\n",
       "      <td>1.000000</td>\n",
       "      <td>6.272403e-01</td>\n",
       "      <td>6.272403e-01</td>\n",
       "    </tr>\n",
       "    <tr>\n",
       "      <th>4</th>\n",
       "      <td>CEM</td>\n",
       "      <td>0</td>\n",
       "      <td>4</td>\n",
       "      <td>0.0</td>\n",
       "      <td>1.000000</td>\n",
       "      <td>7.580289e-01</td>\n",
       "      <td>7.580289e-01</td>\n",
       "    </tr>\n",
       "    <tr>\n",
       "      <th>...</th>\n",
       "      <td>...</td>\n",
       "      <td>...</td>\n",
       "      <td>...</td>\n",
       "      <td>...</td>\n",
       "      <td>...</td>\n",
       "      <td>...</td>\n",
       "      <td>...</td>\n",
       "    </tr>\n",
       "    <tr>\n",
       "      <th>9995</th>\n",
       "      <td>CEM</td>\n",
       "      <td>9</td>\n",
       "      <td>995</td>\n",
       "      <td>1.0</td>\n",
       "      <td>0.019055</td>\n",
       "      <td>5.922306e-05</td>\n",
       "      <td>5.922306e-05</td>\n",
       "    </tr>\n",
       "    <tr>\n",
       "      <th>9996</th>\n",
       "      <td>CEM</td>\n",
       "      <td>9</td>\n",
       "      <td>996</td>\n",
       "      <td>1.0</td>\n",
       "      <td>0.019055</td>\n",
       "      <td>4.504390e-13</td>\n",
       "      <td>4.504390e-13</td>\n",
       "    </tr>\n",
       "    <tr>\n",
       "      <th>9997</th>\n",
       "      <td>CEM</td>\n",
       "      <td>9</td>\n",
       "      <td>997</td>\n",
       "      <td>1.0</td>\n",
       "      <td>0.019055</td>\n",
       "      <td>1.103402e-05</td>\n",
       "      <td>1.103402e-05</td>\n",
       "    </tr>\n",
       "    <tr>\n",
       "      <th>9998</th>\n",
       "      <td>CEM</td>\n",
       "      <td>9</td>\n",
       "      <td>998</td>\n",
       "      <td>0.0</td>\n",
       "      <td>2.925400</td>\n",
       "      <td>2.022541e-01</td>\n",
       "      <td>2.022541e-01</td>\n",
       "    </tr>\n",
       "    <tr>\n",
       "      <th>9999</th>\n",
       "      <td>CEM</td>\n",
       "      <td>9</td>\n",
       "      <td>999</td>\n",
       "      <td>1.0</td>\n",
       "      <td>0.206444</td>\n",
       "      <td>1.355850e-02</td>\n",
       "      <td>1.355850e-02</td>\n",
       "    </tr>\n",
       "  </tbody>\n",
       "</table>\n",
       "<p>10000 rows × 7 columns</p>\n",
       "</div>"
      ],
      "text/plain": [
       "     title  batch  sample_id  selected    weight         score        sample\n",
       "0      CEM      0          0       1.0  1.000000  6.094482e-02  6.094482e-02\n",
       "1      CEM      0          1       0.0  1.000000  9.177716e-01  9.177716e-01\n",
       "2      CEM      0          2       1.0  1.000000  1.547494e-01  1.547494e-01\n",
       "3      CEM      0          3       0.0  1.000000  6.272403e-01  6.272403e-01\n",
       "4      CEM      0          4       0.0  1.000000  7.580289e-01  7.580289e-01\n",
       "...    ...    ...        ...       ...       ...           ...           ...\n",
       "9995   CEM      9        995       1.0  0.019055  5.922306e-05  5.922306e-05\n",
       "9996   CEM      9        996       1.0  0.019055  4.504390e-13  4.504390e-13\n",
       "9997   CEM      9        997       1.0  0.019055  1.103402e-05  1.103402e-05\n",
       "9998   CEM      9        998       0.0  2.925400  2.022541e-01  2.022541e-01\n",
       "9999   CEM      9        999       1.0  0.206444  1.355850e-02  1.355850e-02\n",
       "\n",
       "[10000 rows x 7 columns]"
      ]
     },
     "execution_count": 8,
     "metadata": {},
     "output_type": "execute_result"
    }
   ],
   "source": [
    "d2"
   ]
  },
  {
   "cell_type": "markdown",
   "metadata": {},
   "source": [
    "### Sampling below a quantile threshold\n",
    "\n",
    "In the example above, we are interested in scores below $q=0.1$.\n",
    "In many problems, however, the desired threshold is a quantile of the (possibly unknown) scores distribution.\n",
    "For example, consider the $\\alpha$-quantile for $\\alpha=0.1$ in the same toy example.\n",
    "\n",
    "Since the original distribution is $U([0,1))$ and the score is the sample itself, then in our toy example $q_\\alpha(scores) = \\alpha = 0.1$; that is, we essentially set the same sampling target as before.\n",
    "However, this time the CEM is not aware to the explicit value of $q$, and has to infer it from the data.\n",
    "\n",
    "The CEM module supports such a quantile threshold in two different modes:\n",
    "* `ref_q=None, ref_mode='train', ref_alpha=alpha, n_orig_per_batch=something_positive`: Sample a part of every batch from the original distribution $D_{\\phi_0}$ rather than the sample distribution $D_{\\phi'}$, and estimate $q_\\alpha$ (the $\\alpha$-quantile) from that part of the batch. Note that we could have estimated $q_\\alpha$ directly from $D_{\\phi'}$ using Importance Sampling (IS) even without the reference-samples, but we found that estimation from such reference-samples is more numerically-stable - when the distributional shift is large and the IS weights have a high variance.\n",
    "* `ref_q=None, ref_mode='valid', ref_alpha=alpha`: Estimate $q_\\alpha$ from an external validation data assumed to be sampled from $D_{\\phi_0}$. In this mode, `update_ref_scores(validation_scores)` must be called before the update."
   ]
  },
  {
   "cell_type": "markdown",
   "metadata": {},
   "source": [
    "Below we run the same toy example as above, but with $\\alpha=0.1$ rather than $q=0.1$.\n",
    "Evidently, the CEM manages to estimate the desired threshold and produce similar results.\n",
    "\n",
    "Note that this time every batch also includes reference-samples drawn from the original distribution $D_{\\phi_0}$ (20% of the batch by default, when `ref_q=None`). The method `show_sampled_scores()` presents these reference-samples separately.\n",
    "The term $CVaR_\\alpha$ in the legend refers to the *Conditional Value at Risk*, defined as the average over the lowest quantiles of a distribution, i.e., $CVaR_\\alpha(X)=E[X | X\\le q_\\alpha(X)]$ (which is the same as in the figure above, but with the quantile-threshold $q=q_\\alpha(X)$)."
   ]
  },
  {
   "cell_type": "code",
   "execution_count": 9,
   "metadata": {},
   "outputs": [
    {
     "data": {
      "image/png": "[encoded data removed]",
      "text/plain": [
       "<Figure size 360x252 with 1 Axes>"
      ]
     },
     "metadata": {
      "needs_background": "light"
     },
     "output_type": "display_data"
    }
   ],
   "source": [
    "ce = CEM_Beta(phi0=0.5, batch_size=batch_size, min_batch_update=0.5, ref_mode='train', ref_alpha=0.1)\n",
    "\n",
    "simulate_toy_process_and_sampling(ce)\n",
    "\n",
    "# plot summary\n",
    "ax = ce.show_sampled_scores()\n",
    "ax.axhline(0.5, color='k')\n",
    "ax.axhline(0.05, color='k');"
   ]
  },
  {
   "cell_type": "markdown",
   "metadata": {},
   "source": [
    "### Optimization\n",
    "\n",
    "To use the CEM for optimization in the toy example, we set:\n",
    "* `ref_mode='none'`, so that the update will always use the bottom $\\rho$ of the batch, with no limited target threshold.\n",
    "* `w_clip=1`. This limits the IS weights to the range $[1/clip,\\, clip]$. In a sampling task, `w_clip~10` may stabilize the updates in presence of extreme weights. In the current optimization task, `w_clip=1` simply enforces all the weights to equal $1$.\n",
    "\n",
    "The CEM indeed converges to the optimum $\\phi^*=0.001$ within 4 iterations (note that the definition of the CEM_Beta class above limits the range of $\\phi'$ to $[0.001,0.999]$)."
   ]
  },
  {
   "cell_type": "code",
   "execution_count": 10,
   "metadata": {},
   "outputs": [
    {
     "data": {
      "text/html": [
       "<div>\n",
       "<style scoped>\n",
       "    .dataframe tbody tr th:only-of-type {\n",
       "        vertical-align: middle;\n",
       "    }\n",
       "\n",
       "    .dataframe tbody tr th {\n",
       "        vertical-align: top;\n",
       "    }\n",
       "\n",
       "    .dataframe thead th {\n",
       "        text-align: right;\n",
       "    }\n",
       "</style>\n",
       "<table border=\"1\" class=\"dataframe\">\n",
       "  <thead>\n",
       "    <tr style=\"text-align: right;\">\n",
       "      <th></th>\n",
       "      <th>title</th>\n",
       "      <th>batch</th>\n",
       "      <th>ref_quantile</th>\n",
       "      <th>internal_quantile</th>\n",
       "      <th>n_update_samples</th>\n",
       "      <th>update_samples_perc</th>\n",
       "      <th>beta_mean</th>\n",
       "    </tr>\n",
       "  </thead>\n",
       "  <tbody>\n",
       "    <tr>\n",
       "      <th>0</th>\n",
       "      <td>CEM</td>\n",
       "      <td>0</td>\n",
       "      <td>-inf</td>\n",
       "      <td>5.079473e-01</td>\n",
       "      <td>500</td>\n",
       "      <td>50.0</td>\n",
       "      <td>0.500000</td>\n",
       "    </tr>\n",
       "    <tr>\n",
       "      <th>1</th>\n",
       "      <td>CEM</td>\n",
       "      <td>1</td>\n",
       "      <td>-inf</td>\n",
       "      <td>1.849277e-01</td>\n",
       "      <td>500</td>\n",
       "      <td>50.0</td>\n",
       "      <td>0.259039</td>\n",
       "    </tr>\n",
       "    <tr>\n",
       "      <th>2</th>\n",
       "      <td>CEM</td>\n",
       "      <td>2</td>\n",
       "      <td>-inf</td>\n",
       "      <td>1.548181e-03</td>\n",
       "      <td>500</td>\n",
       "      <td>50.0</td>\n",
       "      <td>0.060129</td>\n",
       "    </tr>\n",
       "    <tr>\n",
       "      <th>3</th>\n",
       "      <td>CEM</td>\n",
       "      <td>3</td>\n",
       "      <td>-inf</td>\n",
       "      <td>1.293341e-150</td>\n",
       "      <td>500</td>\n",
       "      <td>50.0</td>\n",
       "      <td>0.001000</td>\n",
       "    </tr>\n",
       "    <tr>\n",
       "      <th>4</th>\n",
       "      <td>CEM</td>\n",
       "      <td>4</td>\n",
       "      <td>-inf</td>\n",
       "      <td>4.219024e-148</td>\n",
       "      <td>500</td>\n",
       "      <td>50.0</td>\n",
       "      <td>0.001000</td>\n",
       "    </tr>\n",
       "    <tr>\n",
       "      <th>5</th>\n",
       "      <td>CEM</td>\n",
       "      <td>5</td>\n",
       "      <td>-inf</td>\n",
       "      <td>3.607005e-155</td>\n",
       "      <td>500</td>\n",
       "      <td>50.0</td>\n",
       "      <td>0.001000</td>\n",
       "    </tr>\n",
       "    <tr>\n",
       "      <th>6</th>\n",
       "      <td>CEM</td>\n",
       "      <td>6</td>\n",
       "      <td>-inf</td>\n",
       "      <td>8.316066e-145</td>\n",
       "      <td>500</td>\n",
       "      <td>50.0</td>\n",
       "      <td>0.001000</td>\n",
       "    </tr>\n",
       "    <tr>\n",
       "      <th>7</th>\n",
       "      <td>CEM</td>\n",
       "      <td>7</td>\n",
       "      <td>-inf</td>\n",
       "      <td>4.204978e-142</td>\n",
       "      <td>500</td>\n",
       "      <td>50.0</td>\n",
       "      <td>0.001000</td>\n",
       "    </tr>\n",
       "    <tr>\n",
       "      <th>8</th>\n",
       "      <td>CEM</td>\n",
       "      <td>8</td>\n",
       "      <td>-inf</td>\n",
       "      <td>3.404778e-151</td>\n",
       "      <td>500</td>\n",
       "      <td>50.0</td>\n",
       "      <td>0.001000</td>\n",
       "    </tr>\n",
       "    <tr>\n",
       "      <th>9</th>\n",
       "      <td>CEM</td>\n",
       "      <td>9</td>\n",
       "      <td>-inf</td>\n",
       "      <td>1.915042e-152</td>\n",
       "      <td>500</td>\n",
       "      <td>50.0</td>\n",
       "      <td>0.001000</td>\n",
       "    </tr>\n",
       "  </tbody>\n",
       "</table>\n",
       "</div>"
      ],
      "text/plain": [
       "  title  batch  ref_quantile  internal_quantile  n_update_samples  \\\n",
       "0   CEM      0          -inf       5.079473e-01               500   \n",
       "1   CEM      1          -inf       1.849277e-01               500   \n",
       "2   CEM      2          -inf       1.548181e-03               500   \n",
       "3   CEM      3          -inf      1.293341e-150               500   \n",
       "4   CEM      4          -inf      4.219024e-148               500   \n",
       "5   CEM      5          -inf      3.607005e-155               500   \n",
       "6   CEM      6          -inf      8.316066e-145               500   \n",
       "7   CEM      7          -inf      4.204978e-142               500   \n",
       "8   CEM      8          -inf      3.404778e-151               500   \n",
       "9   CEM      9          -inf      1.915042e-152               500   \n",
       "\n",
       "   update_samples_perc  beta_mean  \n",
       "0                 50.0   0.500000  \n",
       "1                 50.0   0.259039  \n",
       "2                 50.0   0.060129  \n",
       "3                 50.0   0.001000  \n",
       "4                 50.0   0.001000  \n",
       "5                 50.0   0.001000  \n",
       "6                 50.0   0.001000  \n",
       "7                 50.0   0.001000  \n",
       "8                 50.0   0.001000  \n",
       "9                 50.0   0.001000  "
      ]
     },
     "execution_count": 10,
     "metadata": {},
     "output_type": "execute_result"
    },
    {
     "data": {
      "image/png": "[encoded data removed]",
      "text/plain": [
       "<Figure size 360x252 with 1 Axes>"
      ]
     },
     "metadata": {
      "needs_background": "light"
     },
     "output_type": "display_data"
    }
   ],
   "source": [
    "ce = CEM_Beta(phi0=0.5, batch_size=batch_size, min_batch_update=0.5, ref_mode='none', w_clip=1)\n",
    "\n",
    "simulate_toy_process_and_sampling(ce)\n",
    "\n",
    "# plot summary\n",
    "ax = ce.show_sampled_scores()\n",
    "ax.axhline(0.5, color='k')\n",
    "ax.axhline(0.05, color='k')\n",
    "ax.set_yscale('log')\n",
    "\n",
    "# show batch-level info\n",
    "ce.get_data()[0]"
   ]
  },
  {
   "cell_type": "markdown",
   "metadata": {},
   "source": [
    "## Cross entropy sampler for risk-averse reinforcement learning"
   ]
  },
  {
   "cell_type": "markdown",
   "metadata": {},
   "source": [
    "#### Motivation\n",
    "For risk-averse reinforcement learning (RL), a common metric to optimize is the $CVaR_\\alpha$ of the agent returns (instead of the expected return).\n",
    "In a [separate work](https://github.com/ido90/CeSoR), we apply policy gradient wrt the CVaR metric.\n",
    "Since the learning focuses on the worst episodes per batch, we use the CEM to sample more difficult episodes in the first place, which is shown to improve the sample-efficiency.\n",
    "\n",
    "#### Problem definition\n",
    "In this example, the **score function** of the CEM is the return $R(x; agent)$ of the agent in the gym-simulation of the RL environment, initialized with the environment conditions $x$.\n",
    "The **threshold** is the $\\alpha$-quantile of the original returns distribution (where $\\alpha$ is defined by the CVaR target).\n",
    "The **distributions class** can be defined according to the specific RL environment.\n",
    "\n",
    "#### The dynamic reference challenge\n",
    "The sampling problem is challenging in this case, since the \"original\" returns distribution (and its corresponding quantile $q_\\alpha$) is not constant:\n",
    "in the training process, we change not only the environment-sampling distribution $D_\\phi$ but also the agent policy. Hence, the returns distribution corresponding to $D_{\\phi_0}$ varies with the evolution of the agent.\n",
    "Yet, the dynamic quantile estimation of our CEM module can handle this evolution.\n",
    "\n",
    "#### Code\n",
    "The code and the notebooks are available in the corresponding [repo](https://github.com/ido90/CeSoR), with examples in different RL problems: a maze, a self-driving task and a resource-management task."
   ]
  }
 ],
 "metadata": {
  "kernelspec": {
   "display_name": "Python 3 (ipykernel)",
   "language": "python",
   "name": "python3"
  },
  "language_info": {
   "codemirror_mode": {
    "name": "ipython",
    "version": 3
   },
   "file_extension": ".py",
   "mimetype": "text/x-python",
   "name": "python",
   "nbconvert_exporter": "python",
   "pygments_lexer": "ipython3",
   "version": "3.7.3"
  }
 },
 "nbformat": 4,
 "nbformat_minor": 4
}
